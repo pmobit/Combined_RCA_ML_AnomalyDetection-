{
 "cells": [
  {
   "cell_type": "code",
   "execution_count": 1,
   "id": "julian-television",
   "metadata": {
    "scrolled": true
   },
   "outputs": [
    {
     "data": {
      "text/html": [
       "<div>\n",
       "<style scoped>\n",
       "    .dataframe tbody tr th:only-of-type {\n",
       "        vertical-align: middle;\n",
       "    }\n",
       "\n",
       "    .dataframe tbody tr th {\n",
       "        vertical-align: top;\n",
       "    }\n",
       "\n",
       "    .dataframe thead th {\n",
       "        text-align: right;\n",
       "    }\n",
       "</style>\n",
       "<table border=\"1\" class=\"dataframe\">\n",
       "  <thead>\n",
       "    <tr style=\"text-align: right;\">\n",
       "      <th></th>\n",
       "      <th>Rows Header(1)</th>\n",
       "      <th>Rows Header</th>\n",
       "      <th>TimeStamp</th>\n",
       "      <th>target</th>\n",
       "      <th>RU.LNG.214PZA451A.PV</th>\n",
       "      <th>RU.LNG.214TRA476A.PV</th>\n",
       "      <th>RU.LNG.214ERA151.PV</th>\n",
       "      <th>RU.LNG.214LRSA450.PV</th>\n",
       "      <th>RU.LNG.214PDRA425.PV</th>\n",
       "      <th>RU.LNG.214PRA431.PV</th>\n",
       "      <th>...</th>\n",
       "      <th>RU.LNG.214PRA221.PV</th>\n",
       "      <th>RU.LNG.214PDRA436.PV</th>\n",
       "      <th>RU.LNG.214SZA458.PV</th>\n",
       "      <th>RU.LNG.214PRA221A.PV</th>\n",
       "      <th>RU.LNG.214PRA221B.PV</th>\n",
       "      <th>RU.LNG.214PRA221C.PV</th>\n",
       "      <th>RU.LNG.214TR210.PV</th>\n",
       "      <th>RU.LNG.214PRA218A.PV</th>\n",
       "      <th>RU.LNG.214PRA218B.PV</th>\n",
       "      <th>RU.LNG.214PRA218C.PV</th>\n",
       "    </tr>\n",
       "  </thead>\n",
       "  <tbody>\n",
       "    <tr>\n",
       "      <th>0</th>\n",
       "      <td>0</td>\n",
       "      <td>4/30/2018 2:00:00 PM</td>\n",
       "      <td>4/30/2018 2:00:00 PM</td>\n",
       "      <td>0</td>\n",
       "      <td>1.735779</td>\n",
       "      <td>46.850682</td>\n",
       "      <td>344.721100</td>\n",
       "      <td>58.360908</td>\n",
       "      <td>0.067238</td>\n",
       "      <td>0.022461</td>\n",
       "      <td>...</td>\n",
       "      <td>18.452732</td>\n",
       "      <td>0.018201</td>\n",
       "      <td>3596.894900</td>\n",
       "      <td>18.42876</td>\n",
       "      <td>18.42876</td>\n",
       "      <td>18.44123</td>\n",
       "      <td>-51.697580</td>\n",
       "      <td>2.713089</td>\n",
       "      <td>2.743305</td>\n",
       "      <td>2.701507</td>\n",
       "    </tr>\n",
       "    <tr>\n",
       "      <th>1</th>\n",
       "      <td>1</td>\n",
       "      <td>4/30/2018 2:05:00 PM</td>\n",
       "      <td>4/30/2018 2:05:00 PM</td>\n",
       "      <td>0</td>\n",
       "      <td>1.735758</td>\n",
       "      <td>46.846702</td>\n",
       "      <td>344.478560</td>\n",
       "      <td>58.263972</td>\n",
       "      <td>0.066998</td>\n",
       "      <td>0.022461</td>\n",
       "      <td>...</td>\n",
       "      <td>18.508827</td>\n",
       "      <td>0.018237</td>\n",
       "      <td>3596.965600</td>\n",
       "      <td>18.49226</td>\n",
       "      <td>18.49226</td>\n",
       "      <td>18.52101</td>\n",
       "      <td>-51.431550</td>\n",
       "      <td>2.711315</td>\n",
       "      <td>2.742480</td>\n",
       "      <td>2.699879</td>\n",
       "    </tr>\n",
       "    <tr>\n",
       "      <th>2</th>\n",
       "      <td>2</td>\n",
       "      <td>4/30/2018 2:10:00 PM</td>\n",
       "      <td>4/30/2018 2:10:00 PM</td>\n",
       "      <td>0</td>\n",
       "      <td>1.735737</td>\n",
       "      <td>46.842724</td>\n",
       "      <td>345.997310</td>\n",
       "      <td>58.238913</td>\n",
       "      <td>0.066856</td>\n",
       "      <td>0.022461</td>\n",
       "      <td>...</td>\n",
       "      <td>18.445155</td>\n",
       "      <td>0.018494</td>\n",
       "      <td>3597.036500</td>\n",
       "      <td>18.48804</td>\n",
       "      <td>18.49053</td>\n",
       "      <td>18.46196</td>\n",
       "      <td>-51.145730</td>\n",
       "      <td>2.709541</td>\n",
       "      <td>2.741655</td>\n",
       "      <td>2.698252</td>\n",
       "    </tr>\n",
       "    <tr>\n",
       "      <th>3</th>\n",
       "      <td>3</td>\n",
       "      <td>4/30/2018 2:15:00 PM</td>\n",
       "      <td>4/30/2018 2:15:00 PM</td>\n",
       "      <td>0</td>\n",
       "      <td>1.735716</td>\n",
       "      <td>46.838745</td>\n",
       "      <td>349.088120</td>\n",
       "      <td>58.204752</td>\n",
       "      <td>0.066744</td>\n",
       "      <td>0.022461</td>\n",
       "      <td>...</td>\n",
       "      <td>18.368262</td>\n",
       "      <td>0.018994</td>\n",
       "      <td>3597.107400</td>\n",
       "      <td>18.39274</td>\n",
       "      <td>18.40107</td>\n",
       "      <td>18.40290</td>\n",
       "      <td>-50.859920</td>\n",
       "      <td>2.685702</td>\n",
       "      <td>2.729231</td>\n",
       "      <td>2.680689</td>\n",
       "    </tr>\n",
       "    <tr>\n",
       "      <th>4</th>\n",
       "      <td>4</td>\n",
       "      <td>4/30/2018 2:20:00 PM</td>\n",
       "      <td>4/30/2018 2:20:00 PM</td>\n",
       "      <td>0</td>\n",
       "      <td>1.735695</td>\n",
       "      <td>46.834766</td>\n",
       "      <td>349.821580</td>\n",
       "      <td>58.251884</td>\n",
       "      <td>0.066828</td>\n",
       "      <td>0.022461</td>\n",
       "      <td>...</td>\n",
       "      <td>18.250585</td>\n",
       "      <td>0.019495</td>\n",
       "      <td>3597.178100</td>\n",
       "      <td>18.34807</td>\n",
       "      <td>18.34919</td>\n",
       "      <td>18.34385</td>\n",
       "      <td>-50.574100</td>\n",
       "      <td>2.648563</td>\n",
       "      <td>2.692863</td>\n",
       "      <td>2.630229</td>\n",
       "    </tr>\n",
       "    <tr>\n",
       "      <th>...</th>\n",
       "      <td>...</td>\n",
       "      <td>...</td>\n",
       "      <td>...</td>\n",
       "      <td>...</td>\n",
       "      <td>...</td>\n",
       "      <td>...</td>\n",
       "      <td>...</td>\n",
       "      <td>...</td>\n",
       "      <td>...</td>\n",
       "      <td>...</td>\n",
       "      <td>...</td>\n",
       "      <td>...</td>\n",
       "      <td>...</td>\n",
       "      <td>...</td>\n",
       "      <td>...</td>\n",
       "      <td>...</td>\n",
       "      <td>...</td>\n",
       "      <td>...</td>\n",
       "      <td>...</td>\n",
       "      <td>...</td>\n",
       "      <td>...</td>\n",
       "    </tr>\n",
       "    <tr>\n",
       "      <th>70556</th>\n",
       "      <td>70556</td>\n",
       "      <td>12/31/2018 1:40:00 PM</td>\n",
       "      <td>12/31/2018 1:40:00 PM</td>\n",
       "      <td>0</td>\n",
       "      <td>0.001812</td>\n",
       "      <td>26.244280</td>\n",
       "      <td>5.663667</td>\n",
       "      <td>66.835000</td>\n",
       "      <td>-0.000133</td>\n",
       "      <td>0.000610</td>\n",
       "      <td>...</td>\n",
       "      <td>0.000000</td>\n",
       "      <td>0.000002</td>\n",
       "      <td>-0.001465</td>\n",
       "      <td>0.00000</td>\n",
       "      <td>0.00000</td>\n",
       "      <td>0.00000</td>\n",
       "      <td>-7.652736</td>\n",
       "      <td>-0.124050</td>\n",
       "      <td>-0.124050</td>\n",
       "      <td>-0.126979</td>\n",
       "    </tr>\n",
       "    <tr>\n",
       "      <th>70557</th>\n",
       "      <td>70557</td>\n",
       "      <td>12/31/2018 1:45:00 PM</td>\n",
       "      <td>12/31/2018 1:45:00 PM</td>\n",
       "      <td>0</td>\n",
       "      <td>0.001812</td>\n",
       "      <td>26.224598</td>\n",
       "      <td>5.661115</td>\n",
       "      <td>66.839119</td>\n",
       "      <td>-0.000132</td>\n",
       "      <td>0.000610</td>\n",
       "      <td>...</td>\n",
       "      <td>0.000000</td>\n",
       "      <td>0.000003</td>\n",
       "      <td>-0.001465</td>\n",
       "      <td>0.00000</td>\n",
       "      <td>0.00000</td>\n",
       "      <td>0.00000</td>\n",
       "      <td>-7.653512</td>\n",
       "      <td>-0.124050</td>\n",
       "      <td>-0.124050</td>\n",
       "      <td>-0.126979</td>\n",
       "    </tr>\n",
       "    <tr>\n",
       "      <th>70558</th>\n",
       "      <td>70558</td>\n",
       "      <td>12/31/2018 1:50:00 PM</td>\n",
       "      <td>12/31/2018 1:50:00 PM</td>\n",
       "      <td>0</td>\n",
       "      <td>0.001812</td>\n",
       "      <td>26.204914</td>\n",
       "      <td>5.658563</td>\n",
       "      <td>66.843239</td>\n",
       "      <td>-0.000131</td>\n",
       "      <td>0.000610</td>\n",
       "      <td>...</td>\n",
       "      <td>0.000000</td>\n",
       "      <td>0.000003</td>\n",
       "      <td>-0.001465</td>\n",
       "      <td>0.00000</td>\n",
       "      <td>0.00000</td>\n",
       "      <td>0.00000</td>\n",
       "      <td>-7.654287</td>\n",
       "      <td>-0.124050</td>\n",
       "      <td>-0.124050</td>\n",
       "      <td>-0.126979</td>\n",
       "    </tr>\n",
       "    <tr>\n",
       "      <th>70559</th>\n",
       "      <td>70559</td>\n",
       "      <td>12/31/2018 1:55:00 PM</td>\n",
       "      <td>12/31/2018 1:55:00 PM</td>\n",
       "      <td>0</td>\n",
       "      <td>0.001811</td>\n",
       "      <td>26.185231</td>\n",
       "      <td>5.656011</td>\n",
       "      <td>66.847366</td>\n",
       "      <td>-0.000129</td>\n",
       "      <td>0.000610</td>\n",
       "      <td>...</td>\n",
       "      <td>0.000000</td>\n",
       "      <td>0.000004</td>\n",
       "      <td>-0.001465</td>\n",
       "      <td>0.00000</td>\n",
       "      <td>0.00000</td>\n",
       "      <td>0.00000</td>\n",
       "      <td>-7.655064</td>\n",
       "      <td>-0.124050</td>\n",
       "      <td>-0.124050</td>\n",
       "      <td>-0.126979</td>\n",
       "    </tr>\n",
       "    <tr>\n",
       "      <th>70560</th>\n",
       "      <td>70560</td>\n",
       "      <td>12/31/2018 2:00:00 PM</td>\n",
       "      <td>12/31/2018 2:00:00 PM</td>\n",
       "      <td>0</td>\n",
       "      <td>0.001811</td>\n",
       "      <td>26.165549</td>\n",
       "      <td>5.653459</td>\n",
       "      <td>66.851486</td>\n",
       "      <td>-0.000128</td>\n",
       "      <td>0.000610</td>\n",
       "      <td>...</td>\n",
       "      <td>0.000000</td>\n",
       "      <td>0.000005</td>\n",
       "      <td>-0.001465</td>\n",
       "      <td>0.00000</td>\n",
       "      <td>0.00000</td>\n",
       "      <td>0.00000</td>\n",
       "      <td>-7.655839</td>\n",
       "      <td>-0.124050</td>\n",
       "      <td>-0.124050</td>\n",
       "      <td>-0.126979</td>\n",
       "    </tr>\n",
       "  </tbody>\n",
       "</table>\n",
       "<p>70561 rows × 23 columns</p>\n",
       "</div>"
      ],
      "text/plain": [
       "       Rows Header(1)            Rows Header              TimeStamp  target  \\\n",
       "0                   0   4/30/2018 2:00:00 PM   4/30/2018 2:00:00 PM       0   \n",
       "1                   1   4/30/2018 2:05:00 PM   4/30/2018 2:05:00 PM       0   \n",
       "2                   2   4/30/2018 2:10:00 PM   4/30/2018 2:10:00 PM       0   \n",
       "3                   3   4/30/2018 2:15:00 PM   4/30/2018 2:15:00 PM       0   \n",
       "4                   4   4/30/2018 2:20:00 PM   4/30/2018 2:20:00 PM       0   \n",
       "...               ...                    ...                    ...     ...   \n",
       "70556           70556  12/31/2018 1:40:00 PM  12/31/2018 1:40:00 PM       0   \n",
       "70557           70557  12/31/2018 1:45:00 PM  12/31/2018 1:45:00 PM       0   \n",
       "70558           70558  12/31/2018 1:50:00 PM  12/31/2018 1:50:00 PM       0   \n",
       "70559           70559  12/31/2018 1:55:00 PM  12/31/2018 1:55:00 PM       0   \n",
       "70560           70560  12/31/2018 2:00:00 PM  12/31/2018 2:00:00 PM       0   \n",
       "\n",
       "       RU.LNG.214PZA451A.PV  RU.LNG.214TRA476A.PV  RU.LNG.214ERA151.PV  \\\n",
       "0                  1.735779             46.850682           344.721100   \n",
       "1                  1.735758             46.846702           344.478560   \n",
       "2                  1.735737             46.842724           345.997310   \n",
       "3                  1.735716             46.838745           349.088120   \n",
       "4                  1.735695             46.834766           349.821580   \n",
       "...                     ...                   ...                  ...   \n",
       "70556              0.001812             26.244280             5.663667   \n",
       "70557              0.001812             26.224598             5.661115   \n",
       "70558              0.001812             26.204914             5.658563   \n",
       "70559              0.001811             26.185231             5.656011   \n",
       "70560              0.001811             26.165549             5.653459   \n",
       "\n",
       "       RU.LNG.214LRSA450.PV  RU.LNG.214PDRA425.PV  RU.LNG.214PRA431.PV  ...  \\\n",
       "0                 58.360908              0.067238             0.022461  ...   \n",
       "1                 58.263972              0.066998             0.022461  ...   \n",
       "2                 58.238913              0.066856             0.022461  ...   \n",
       "3                 58.204752              0.066744             0.022461  ...   \n",
       "4                 58.251884              0.066828             0.022461  ...   \n",
       "...                     ...                   ...                  ...  ...   \n",
       "70556             66.835000             -0.000133             0.000610  ...   \n",
       "70557             66.839119             -0.000132             0.000610  ...   \n",
       "70558             66.843239             -0.000131             0.000610  ...   \n",
       "70559             66.847366             -0.000129             0.000610  ...   \n",
       "70560             66.851486             -0.000128             0.000610  ...   \n",
       "\n",
       "       RU.LNG.214PRA221.PV  RU.LNG.214PDRA436.PV  RU.LNG.214SZA458.PV  \\\n",
       "0                18.452732              0.018201          3596.894900   \n",
       "1                18.508827              0.018237          3596.965600   \n",
       "2                18.445155              0.018494          3597.036500   \n",
       "3                18.368262              0.018994          3597.107400   \n",
       "4                18.250585              0.019495          3597.178100   \n",
       "...                    ...                   ...                  ...   \n",
       "70556             0.000000              0.000002            -0.001465   \n",
       "70557             0.000000              0.000003            -0.001465   \n",
       "70558             0.000000              0.000003            -0.001465   \n",
       "70559             0.000000              0.000004            -0.001465   \n",
       "70560             0.000000              0.000005            -0.001465   \n",
       "\n",
       "       RU.LNG.214PRA221A.PV  RU.LNG.214PRA221B.PV  RU.LNG.214PRA221C.PV  \\\n",
       "0                  18.42876              18.42876              18.44123   \n",
       "1                  18.49226              18.49226              18.52101   \n",
       "2                  18.48804              18.49053              18.46196   \n",
       "3                  18.39274              18.40107              18.40290   \n",
       "4                  18.34807              18.34919              18.34385   \n",
       "...                     ...                   ...                   ...   \n",
       "70556               0.00000               0.00000               0.00000   \n",
       "70557               0.00000               0.00000               0.00000   \n",
       "70558               0.00000               0.00000               0.00000   \n",
       "70559               0.00000               0.00000               0.00000   \n",
       "70560               0.00000               0.00000               0.00000   \n",
       "\n",
       "       RU.LNG.214TR210.PV  RU.LNG.214PRA218A.PV  RU.LNG.214PRA218B.PV  \\\n",
       "0              -51.697580              2.713089              2.743305   \n",
       "1              -51.431550              2.711315              2.742480   \n",
       "2              -51.145730              2.709541              2.741655   \n",
       "3              -50.859920              2.685702              2.729231   \n",
       "4              -50.574100              2.648563              2.692863   \n",
       "...                   ...                   ...                   ...   \n",
       "70556           -7.652736             -0.124050             -0.124050   \n",
       "70557           -7.653512             -0.124050             -0.124050   \n",
       "70558           -7.654287             -0.124050             -0.124050   \n",
       "70559           -7.655064             -0.124050             -0.124050   \n",
       "70560           -7.655839             -0.124050             -0.124050   \n",
       "\n",
       "       RU.LNG.214PRA218C.PV  \n",
       "0                  2.701507  \n",
       "1                  2.699879  \n",
       "2                  2.698252  \n",
       "3                  2.680689  \n",
       "4                  2.630229  \n",
       "...                     ...  \n",
       "70556             -0.126979  \n",
       "70557             -0.126979  \n",
       "70558             -0.126979  \n",
       "70559             -0.126979  \n",
       "70560             -0.126979  \n",
       "\n",
       "[70561 rows x 23 columns]"
      ]
     },
     "execution_count": 1,
     "metadata": {},
     "output_type": "execute_result"
    }
   ],
   "source": [
    "import pandas as pd\n",
    "import numpy as np \n",
    "#### \n",
    "from sklearn.model_selection import train_test_split , StratifiedKFold, cross_val_score\n",
    "from sklearn.linear_model import LogisticRegression\n",
    "from sklearn.tree import DecisionTreeClassifier\n",
    "from sklearn.neighbors import KNeighborsClassifier\n",
    "from sklearn.discriminant_analysis import LinearDiscriminantAnalysis\n",
    "from sklearn.naive_bayes import GaussianNB\n",
    "from sklearn.svm import SVC\n",
    "from sklearn.ensemble import AdaBoostClassifier, GradientBoostingClassifier, RandomForestClassifier\n",
    "from sklearn.neural_network import MLPClassifier\n",
    "from xgboost import XGBClassifier\n",
    "#df = pd.read_csv('./2K_1420_part_1234567features.csv',delimiter=';',index_col=False) \n",
    "\n",
    "\n",
    "\n",
    "\n",
    "df = pd.read_csv('/Users/pooyan/Documents/Emerson/data/data.csv', index_col=False, sep=\";\", header=0)\n",
    "#set 0 as normal as 1 as abnormal\n",
    "df.insert(3, 'target', 0)\n",
    "\n",
    "# df.drop('Rows Header(1)')\n",
    "df"
   ]
  },
  {
   "cell_type": "code",
   "execution_count": 3,
   "id": "round-guard",
   "metadata": {
    "scrolled": true
   },
   "outputs": [
    {
     "name": "stdout",
     "output_type": "stream",
     "text": [
      "normal samples:  43509 class1 samples:  3018\n",
      "class 2:  23 class3 samples:  24011\n"
     ]
    },
    {
     "name": "stderr",
     "output_type": "stream",
     "text": [
      "<ipython-input-3-65cff2cdac98>:7: FutureWarning: Index.__or__ operating as a set operation is deprecated, in the future this will be a logical operation matching Series.__or__.  Use index.union(other) instead\n",
      "  index1 = df[df['RU.LNG.214TRA220.PV'] > df['RU.LNG.214TRA220.PV'].quantile(0.99)].index  |\\\n",
      "<ipython-input-3-65cff2cdac98>:7: FutureWarning: Index.__or__ operating as a set operation is deprecated, in the future this will be a logical operation matching Series.__or__.  Use index.union(other) instead\n",
      "  index1 = df[df['RU.LNG.214TRA220.PV'] > df['RU.LNG.214TRA220.PV'].quantile(0.99)].index  |\\\n",
      "<ipython-input-3-65cff2cdac98>:7: FutureWarning: Index.__or__ operating as a set operation is deprecated, in the future this will be a logical operation matching Series.__or__.  Use index.union(other) instead\n",
      "  index1 = df[df['RU.LNG.214TRA220.PV'] > df['RU.LNG.214TRA220.PV'].quantile(0.99)].index  |\\\n",
      "<ipython-input-3-65cff2cdac98>:7: FutureWarning: Index.__or__ operating as a set operation is deprecated, in the future this will be a logical operation matching Series.__or__.  Use index.union(other) instead\n",
      "  index1 = df[df['RU.LNG.214TRA220.PV'] > df['RU.LNG.214TRA220.PV'].quantile(0.99)].index  |\\\n",
      "<ipython-input-3-65cff2cdac98>:7: FutureWarning: Index.__or__ operating as a set operation is deprecated, in the future this will be a logical operation matching Series.__or__.  Use index.union(other) instead\n",
      "  index1 = df[df['RU.LNG.214TRA220.PV'] > df['RU.LNG.214TRA220.PV'].quantile(0.99)].index  |\\\n",
      "<ipython-input-3-65cff2cdac98>:7: FutureWarning: Index.__or__ operating as a set operation is deprecated, in the future this will be a logical operation matching Series.__or__.  Use index.union(other) instead\n",
      "  index1 = df[df['RU.LNG.214TRA220.PV'] > df['RU.LNG.214TRA220.PV'].quantile(0.99)].index  |\\\n",
      "<ipython-input-3-65cff2cdac98>:7: FutureWarning: Index.__or__ operating as a set operation is deprecated, in the future this will be a logical operation matching Series.__or__.  Use index.union(other) instead\n",
      "  index1 = df[df['RU.LNG.214TRA220.PV'] > df['RU.LNG.214TRA220.PV'].quantile(0.99)].index  |\\\n",
      "<ipython-input-3-65cff2cdac98>:7: FutureWarning: Index.__or__ operating as a set operation is deprecated, in the future this will be a logical operation matching Series.__or__.  Use index.union(other) instead\n",
      "  index1 = df[df['RU.LNG.214TRA220.PV'] > df['RU.LNG.214TRA220.PV'].quantile(0.99)].index  |\\\n",
      "<ipython-input-3-65cff2cdac98>:7: FutureWarning: Index.__or__ operating as a set operation is deprecated, in the future this will be a logical operation matching Series.__or__.  Use index.union(other) instead\n",
      "  index1 = df[df['RU.LNG.214TRA220.PV'] > df['RU.LNG.214TRA220.PV'].quantile(0.99)].index  |\\\n",
      "<ipython-input-3-65cff2cdac98>:7: FutureWarning: Index.__or__ operating as a set operation is deprecated, in the future this will be a logical operation matching Series.__or__.  Use index.union(other) instead\n",
      "  index1 = df[df['RU.LNG.214TRA220.PV'] > df['RU.LNG.214TRA220.PV'].quantile(0.99)].index  |\\\n",
      "<ipython-input-3-65cff2cdac98>:7: FutureWarning: Index.__or__ operating as a set operation is deprecated, in the future this will be a logical operation matching Series.__or__.  Use index.union(other) instead\n",
      "  index1 = df[df['RU.LNG.214TRA220.PV'] > df['RU.LNG.214TRA220.PV'].quantile(0.99)].index  |\\\n",
      "<ipython-input-3-65cff2cdac98>:23: FutureWarning: Index.__or__ operating as a set operation is deprecated, in the future this will be a logical operation matching Series.__or__.  Use index.union(other) instead\n",
      "  index2 = df[df['RU.LNG.214LRSA450.PV'] <= 55].index | \\\n",
      "<ipython-input-3-65cff2cdac98>:30: FutureWarning: Index.__and__ operating as a set operation is deprecated, in the future this will be a logical operation matching Series.__and__.  Use index.intersection(other) instead\n",
      "  index3 = df[df['RU.LNG.214PZA451A.PV'] <= 1.7704].index & \\\n"
     ]
    }
   ],
   "source": [
    "\n",
    "  \n",
    "index1 = []\n",
    "index2 = []\n",
    "index3 = [] \n",
    "df['target']= 0\n",
    "\n",
    "#condition 1\n",
    "index1 = df[df['RU.LNG.214TRA220.PV'] > df['RU.LNG.214TRA220.PV'].quantile(0.99)].index  |\\\n",
    "df[df['RU.LNG.214PRA218C.PV'] < df['RU.LNG.214PRA218C.PV'].quantile(0.01)].index |\\\n",
    "df[df['RU.LNG.214TRA476A.PV'] < df['RU.LNG.214TRA476A.PV'].quantile(0.01)].index  |\\\n",
    "df[df['RU.LNG.214PZA451A.PV'] < df['RU.LNG.214PZA451A.PV'].quantile(0.01)].index |\\\n",
    "df[df['RU.LNG.214PDRA425.PV'] < df['RU.LNG.214PDRA425.PV'].quantile(0.01)].index |\\\n",
    "df[df['RU.LNG.214PRA431.PV'] > df['RU.LNG.214PRA431.PV'].quantile(0.99)].index  |\\\n",
    "df[df['RU.LNG.214PRA434.PV'] > df['RU.LNG.214PRA434.PV'].quantile(0.99)].index  |\\\n",
    "df[df['RU.LNG.214PRA218.PV'] < df['RU.LNG.214PRA218.PV'].quantile(0.01)].index  |\\\n",
    "df[df['RU.LNG.214PDRA436.PV'] < df['RU.LNG.214PDRA436.PV'].quantile(0.01)].index |\\\n",
    "df[df['RU.LNG.214PRA221B.PV'] < df['RU.LNG.214PRA221B.PV'].quantile(0.01)].index |\\\n",
    "df[df['RU.LNG.214TR210.PV'] > df['RU.LNG.214TR210.PV'].quantile(0.99)].index |\\\n",
    "df[df['RU.LNG.214PRA218A.PV'] < df['RU.LNG.214PRA218A.PV'].quantile(0.01)].index\n",
    "    \n",
    "#condition 2    \n",
    "    \n",
    "#lube oil level    low\n",
    "index2 = df[df['RU.LNG.214LRSA450.PV'] <= 55].index | \\\n",
    "df[df['RU.LNG.214LRSA450.PV'] <= 45].index \n",
    "\n",
    "\n",
    "#condition 3\n",
    "#lube oil pressure\n",
    "\n",
    "index3 = df[df['RU.LNG.214PZA451A.PV'] <= 1.7704].index & \\\n",
    "df[df['RU.LNG.214PZA451A.PV'] >= 1.7672].index \n",
    "\n",
    "#defining labels\n",
    "df.loc[index1, 'target'] = 1  \n",
    "df.loc[index2, 'target'] = 2  \n",
    "df.loc[index3, 'target'] = 3      \n",
    " \n",
    "print(\"normal samples: \",len(df[df['target']==0]), \"class1 samples: \",len(df[df['target']==1]) )    \n",
    "print(\"class 2: \",len(df[df['target']==2]), \"class3 samples: \",len(df[df['target']==3]) )   \n",
    " "
   ]
  },
  {
   "cell_type": "code",
   "execution_count": 5,
   "id": "indirect-wellington",
   "metadata": {},
   "outputs": [],
   "source": [
    "\n",
    "\n",
    "X = df.loc[:,'RU.LNG.214PZA451A.PV':].to_numpy() # all measurement columns\n",
    "y = df['target'].to_numpy() # labels \n",
    "\n",
    "\n",
    "\n",
    "X_train, X_test, y_train, y_test = train_test_split(X, y, test_size=0.20)"
   ]
  },
  {
   "cell_type": "code",
   "execution_count": 6,
   "id": "economic-recipe",
   "metadata": {},
   "outputs": [
    {
     "data": {
      "text/plain": [
       "GaussianNB()"
      ]
     },
     "execution_count": 6,
     "metadata": {},
     "output_type": "execute_result"
    }
   ],
   "source": [
    "\n",
    "# example of gaussian naive bayes\n",
    "from sklearn.datasets import make_blobs\n",
    "from sklearn.naive_bayes import GaussianNB\n",
    "\n",
    "\n",
    "\n",
    "# fit model no training data\n",
    "model = GaussianNB()\n",
    "model.fit(X_train, y_train)"
   ]
  },
  {
   "cell_type": "code",
   "execution_count": 8,
   "id": "invisible-baptist",
   "metadata": {},
   "outputs": [],
   "source": [
    "\n",
    "# make predictions for test data\n",
    "y_pred = model.predict(X_test)\n"
   ]
  },
  {
   "cell_type": "code",
   "execution_count": 9,
   "id": "verified-manor",
   "metadata": {},
   "outputs": [],
   "source": [
    "predictions = [round(value) for value in y_pred]\n",
    "# evaluate predictions"
   ]
  },
  {
   "cell_type": "code",
   "execution_count": 10,
   "id": "handy-allen",
   "metadata": {},
   "outputs": [
    {
     "name": "stdout",
     "output_type": "stream",
     "text": [
      "Accuracy: 38.41%\n"
     ]
    }
   ],
   "source": [
    "from sklearn.metrics import accuracy_score\n",
    "# evaluate predictions\n",
    "accuracy = accuracy_score(y_test, predictions)\n",
    "print(\"Accuracy: %.2f%%\" % (accuracy * 100.0))\n",
    "\n"
   ]
  },
  {
   "cell_type": "code",
   "execution_count": 11,
   "id": "asian-fountain",
   "metadata": {},
   "outputs": [
    {
     "name": "stdout",
     "output_type": "stream",
     "text": [
      "[[ 203  118    2 8368]\n",
      " [   7  467    0  111]\n",
      " [   0    0    0    4]\n",
      " [  41   40    1 4751]]\n"
     ]
    }
   ],
   "source": [
    "from sklearn.metrics import confusion_matrix\n",
    "\n",
    "\n",
    "print(confusion_matrix(y_test, y_pred))"
   ]
  },
  {
   "cell_type": "code",
   "execution_count": 12,
   "id": "accepting-groove",
   "metadata": {},
   "outputs": [
    {
     "data": {
      "image/png": "[encoded data removed]",
      "text/plain": [
       "<Figure size 432x288 with 2 Axes>"
      ]
     },
     "metadata": {
      "needs_background": "light"
     },
     "output_type": "display_data"
    }
   ],
   "source": [
    "import matplotlib.pyplot as plt\n",
    "from sklearn.metrics import plot_confusion_matrix\n",
    "plot_confusion_matrix(model, X_test, y_test)  \n",
    "plt.show()"
   ]
  },
  {
   "cell_type": "code",
   "execution_count": 13,
   "id": "second-people",
   "metadata": {},
   "outputs": [
    {
     "ename": "ValueError",
     "evalue": "Negative values in data passed to MultinomialNB (input X)",
     "output_type": "error",
     "traceback": [
      "\u001b[0;31m---------------------------------------------------------------------------\u001b[0m",
      "\u001b[0;31mValueError\u001b[0m                                Traceback (most recent call last)",
      "\u001b[0;32m<ipython-input-13-86c43f3a72df>\u001b[0m in \u001b[0;36m<module>\u001b[0;34m\u001b[0m\n\u001b[1;32m      1\u001b[0m \u001b[0;32mfrom\u001b[0m \u001b[0msklearn\u001b[0m\u001b[0;34m.\u001b[0m\u001b[0mnaive_bayes\u001b[0m \u001b[0;32mimport\u001b[0m \u001b[0mMultinomialNB\u001b[0m\u001b[0;34m\u001b[0m\u001b[0;34m\u001b[0m\u001b[0m\n\u001b[1;32m      2\u001b[0m \u001b[0mmodel\u001b[0m \u001b[0;34m=\u001b[0m \u001b[0mMultinomialNB\u001b[0m\u001b[0;34m(\u001b[0m\u001b[0;34m)\u001b[0m\u001b[0;34m\u001b[0m\u001b[0;34m\u001b[0m\u001b[0m\n\u001b[0;32m----> 3\u001b[0;31m \u001b[0mmodel\u001b[0m\u001b[0;34m.\u001b[0m\u001b[0mfit\u001b[0m\u001b[0;34m(\u001b[0m\u001b[0mX_train\u001b[0m\u001b[0;34m,\u001b[0m \u001b[0my_train\u001b[0m\u001b[0;34m)\u001b[0m\u001b[0;34m\u001b[0m\u001b[0;34m\u001b[0m\u001b[0m\n\u001b[0m\u001b[1;32m      4\u001b[0m \u001b[0;31m# make predictions for test data\u001b[0m\u001b[0;34m\u001b[0m\u001b[0;34m\u001b[0m\u001b[0;34m\u001b[0m\u001b[0m\n\u001b[1;32m      5\u001b[0m \u001b[0my_pred\u001b[0m \u001b[0;34m=\u001b[0m \u001b[0mmodel\u001b[0m\u001b[0;34m.\u001b[0m\u001b[0mpredict\u001b[0m\u001b[0;34m(\u001b[0m\u001b[0mX_test\u001b[0m\u001b[0;34m)\u001b[0m\u001b[0;34m\u001b[0m\u001b[0;34m\u001b[0m\u001b[0m\n",
      "\u001b[0;32m~/opt/miniconda3/lib/python3.8/site-packages/sklearn/naive_bayes.py\u001b[0m in \u001b[0;36mfit\u001b[0;34m(self, X, y, sample_weight)\u001b[0m\n\u001b[1;32m    636\u001b[0m \u001b[0;34m\u001b[0m\u001b[0m\n\u001b[1;32m    637\u001b[0m         \u001b[0mself\u001b[0m\u001b[0;34m.\u001b[0m\u001b[0m_init_counters\u001b[0m\u001b[0;34m(\u001b[0m\u001b[0mn_effective_classes\u001b[0m\u001b[0;34m,\u001b[0m \u001b[0mn_features\u001b[0m\u001b[0;34m)\u001b[0m\u001b[0;34m\u001b[0m\u001b[0;34m\u001b[0m\u001b[0m\n\u001b[0;32m--> 638\u001b[0;31m         \u001b[0mself\u001b[0m\u001b[0;34m.\u001b[0m\u001b[0m_count\u001b[0m\u001b[0;34m(\u001b[0m\u001b[0mX\u001b[0m\u001b[0;34m,\u001b[0m \u001b[0mY\u001b[0m\u001b[0;34m)\u001b[0m\u001b[0;34m\u001b[0m\u001b[0;34m\u001b[0m\u001b[0m\n\u001b[0m\u001b[1;32m    639\u001b[0m         \u001b[0malpha\u001b[0m \u001b[0;34m=\u001b[0m \u001b[0mself\u001b[0m\u001b[0;34m.\u001b[0m\u001b[0m_check_alpha\u001b[0m\u001b[0;34m(\u001b[0m\u001b[0;34m)\u001b[0m\u001b[0;34m\u001b[0m\u001b[0;34m\u001b[0m\u001b[0m\n\u001b[1;32m    640\u001b[0m         \u001b[0mself\u001b[0m\u001b[0;34m.\u001b[0m\u001b[0m_update_feature_log_prob\u001b[0m\u001b[0;34m(\u001b[0m\u001b[0malpha\u001b[0m\u001b[0;34m)\u001b[0m\u001b[0;34m\u001b[0m\u001b[0;34m\u001b[0m\u001b[0m\n",
      "\u001b[0;32m~/opt/miniconda3/lib/python3.8/site-packages/sklearn/naive_bayes.py\u001b[0m in \u001b[0;36m_count\u001b[0;34m(self, X, Y)\u001b[0m\n\u001b[1;32m    769\u001b[0m     \u001b[0;32mdef\u001b[0m \u001b[0m_count\u001b[0m\u001b[0;34m(\u001b[0m\u001b[0mself\u001b[0m\u001b[0;34m,\u001b[0m \u001b[0mX\u001b[0m\u001b[0;34m,\u001b[0m \u001b[0mY\u001b[0m\u001b[0;34m)\u001b[0m\u001b[0;34m:\u001b[0m\u001b[0;34m\u001b[0m\u001b[0;34m\u001b[0m\u001b[0m\n\u001b[1;32m    770\u001b[0m         \u001b[0;34m\"\"\"Count and smooth feature occurrences.\"\"\"\u001b[0m\u001b[0;34m\u001b[0m\u001b[0;34m\u001b[0m\u001b[0m\n\u001b[0;32m--> 771\u001b[0;31m         \u001b[0mcheck_non_negative\u001b[0m\u001b[0;34m(\u001b[0m\u001b[0mX\u001b[0m\u001b[0;34m,\u001b[0m \u001b[0;34m\"MultinomialNB (input X)\"\u001b[0m\u001b[0;34m)\u001b[0m\u001b[0;34m\u001b[0m\u001b[0;34m\u001b[0m\u001b[0m\n\u001b[0m\u001b[1;32m    772\u001b[0m         \u001b[0mself\u001b[0m\u001b[0;34m.\u001b[0m\u001b[0mfeature_count_\u001b[0m \u001b[0;34m+=\u001b[0m \u001b[0msafe_sparse_dot\u001b[0m\u001b[0;34m(\u001b[0m\u001b[0mY\u001b[0m\u001b[0;34m.\u001b[0m\u001b[0mT\u001b[0m\u001b[0;34m,\u001b[0m \u001b[0mX\u001b[0m\u001b[0;34m)\u001b[0m\u001b[0;34m\u001b[0m\u001b[0;34m\u001b[0m\u001b[0m\n\u001b[1;32m    773\u001b[0m         \u001b[0mself\u001b[0m\u001b[0;34m.\u001b[0m\u001b[0mclass_count_\u001b[0m \u001b[0;34m+=\u001b[0m \u001b[0mY\u001b[0m\u001b[0;34m.\u001b[0m\u001b[0msum\u001b[0m\u001b[0;34m(\u001b[0m\u001b[0maxis\u001b[0m\u001b[0;34m=\u001b[0m\u001b[0;36m0\u001b[0m\u001b[0;34m)\u001b[0m\u001b[0;34m\u001b[0m\u001b[0;34m\u001b[0m\u001b[0m\n",
      "\u001b[0;32m~/opt/miniconda3/lib/python3.8/site-packages/sklearn/utils/validation.py\u001b[0m in \u001b[0;36mcheck_non_negative\u001b[0;34m(X, whom)\u001b[0m\n\u001b[1;32m   1066\u001b[0m \u001b[0;34m\u001b[0m\u001b[0m\n\u001b[1;32m   1067\u001b[0m     \u001b[0;32mif\u001b[0m \u001b[0mX_min\u001b[0m \u001b[0;34m<\u001b[0m \u001b[0;36m0\u001b[0m\u001b[0;34m:\u001b[0m\u001b[0;34m\u001b[0m\u001b[0;34m\u001b[0m\u001b[0m\n\u001b[0;32m-> 1068\u001b[0;31m         \u001b[0;32mraise\u001b[0m \u001b[0mValueError\u001b[0m\u001b[0;34m(\u001b[0m\u001b[0;34m\"Negative values in data passed to %s\"\u001b[0m \u001b[0;34m%\u001b[0m \u001b[0mwhom\u001b[0m\u001b[0;34m)\u001b[0m\u001b[0;34m\u001b[0m\u001b[0;34m\u001b[0m\u001b[0m\n\u001b[0m\u001b[1;32m   1069\u001b[0m \u001b[0;34m\u001b[0m\u001b[0m\n\u001b[1;32m   1070\u001b[0m \u001b[0;34m\u001b[0m\u001b[0m\n",
      "\u001b[0;31mValueError\u001b[0m: Negative values in data passed to MultinomialNB (input X)"
     ]
    }
   ],
   "source": [
    " from sklearn.naive_bayes import MultinomialNB\n",
    "model = MultinomialNB()\n",
    "model.fit(X_train, y_train)\n",
    "# make predictions for test data\n",
    "y_pred = model.predict(X_test)\n",
    "predictions = [round(value) for value in y_pred]\n",
    "# evaluate predictions\n",
    "from sklearn.metrics import accuracy_score\n",
    "# evaluate predictions\n",
    "accuracy = accuracy_score(y_test, predictions)\n",
    "print(\"Accuracy: %.2f%%\" % (accuracy * 100.0))"
   ]
  },
  {
   "cell_type": "code",
   "execution_count": 17,
   "id": "tested-hostel",
   "metadata": {},
   "outputs": [
    {
     "name": "stdout",
     "output_type": "stream",
     "text": [
      "Accuracy: 63.54%\n"
     ]
    }
   ],
   "source": [
    " from sklearn.naive_bayes import BernoulliNB\n",
    "model = BernoulliNB()\n",
    "model.fit(X_train, y_train)\n",
    "# make predictions for test data\n",
    "y_pred = model.predict(X_test)\n",
    "predictions = [round(value) for value in y_pred]\n",
    "# evaluate predictions\n",
    "from sklearn.metrics import accuracy_score\n",
    "# evaluate predictions\n",
    "accuracy = accuracy_score(y_test, predictions)\n",
    "print(\"Accuracy: %.2f%%\" % (accuracy * 100.0))"
   ]
  },
  {
   "cell_type": "code",
   "execution_count": 18,
   "id": "organic-photographer",
   "metadata": {},
   "outputs": [
    {
     "data": {
      "image/png": "[encoded data removed]",
      "text/plain": [
       "<Figure size 432x288 with 2 Axes>"
      ]
     },
     "metadata": {
      "needs_background": "light"
     },
     "output_type": "display_data"
    }
   ],
   "source": [
    "import matplotlib.pyplot as plt\n",
    "from sklearn.metrics import plot_confusion_matrix\n",
    "plot_confusion_matrix(model, X_test, y_test)  \n",
    "plt.show()"
   ]
  },
  {
   "cell_type": "code",
   "execution_count": 19,
   "id": "broke-think",
   "metadata": {},
   "outputs": [
    {
     "ename": "ValueError",
     "evalue": "Negative values in data passed to CategoricalNB (input X)",
     "output_type": "error",
     "traceback": [
      "\u001b[0;31m---------------------------------------------------------------------------\u001b[0m",
      "\u001b[0;31mValueError\u001b[0m                                Traceback (most recent call last)",
      "\u001b[0;32m<ipython-input-19-ae921a8c882d>\u001b[0m in \u001b[0;36m<module>\u001b[0;34m\u001b[0m\n\u001b[1;32m      1\u001b[0m \u001b[0;32mfrom\u001b[0m \u001b[0msklearn\u001b[0m\u001b[0;34m.\u001b[0m\u001b[0mnaive_bayes\u001b[0m \u001b[0;32mimport\u001b[0m \u001b[0mCategoricalNB\u001b[0m\u001b[0;34m\u001b[0m\u001b[0;34m\u001b[0m\u001b[0m\n\u001b[1;32m      2\u001b[0m \u001b[0mmodel\u001b[0m \u001b[0;34m=\u001b[0m \u001b[0mCategoricalNB\u001b[0m\u001b[0;34m(\u001b[0m\u001b[0;34m)\u001b[0m\u001b[0;34m\u001b[0m\u001b[0;34m\u001b[0m\u001b[0m\n\u001b[0;32m----> 3\u001b[0;31m \u001b[0mmodel\u001b[0m\u001b[0;34m.\u001b[0m\u001b[0mfit\u001b[0m\u001b[0;34m(\u001b[0m\u001b[0mX_train\u001b[0m\u001b[0;34m,\u001b[0m \u001b[0my_train\u001b[0m\u001b[0;34m)\u001b[0m\u001b[0;34m\u001b[0m\u001b[0;34m\u001b[0m\u001b[0m\n\u001b[0m\u001b[1;32m      4\u001b[0m \u001b[0;31m# make predictions for test data\u001b[0m\u001b[0;34m\u001b[0m\u001b[0;34m\u001b[0m\u001b[0;34m\u001b[0m\u001b[0m\n\u001b[1;32m      5\u001b[0m \u001b[0my_pred\u001b[0m \u001b[0;34m=\u001b[0m \u001b[0mmodel\u001b[0m\u001b[0;34m.\u001b[0m\u001b[0mpredict\u001b[0m\u001b[0;34m(\u001b[0m\u001b[0mX_test\u001b[0m\u001b[0;34m)\u001b[0m\u001b[0;34m\u001b[0m\u001b[0;34m\u001b[0m\u001b[0m\n",
      "\u001b[0;32m~/opt/miniconda3/lib/python3.8/site-packages/sklearn/naive_bayes.py\u001b[0m in \u001b[0;36mfit\u001b[0;34m(self, X, y, sample_weight)\u001b[0m\n\u001b[1;32m   1164\u001b[0m         \u001b[0mself\u001b[0m \u001b[0;34m:\u001b[0m \u001b[0mobject\u001b[0m\u001b[0;34m\u001b[0m\u001b[0;34m\u001b[0m\u001b[0m\n\u001b[1;32m   1165\u001b[0m         \"\"\"\n\u001b[0;32m-> 1166\u001b[0;31m         \u001b[0;32mreturn\u001b[0m \u001b[0msuper\u001b[0m\u001b[0;34m(\u001b[0m\u001b[0;34m)\u001b[0m\u001b[0;34m.\u001b[0m\u001b[0mfit\u001b[0m\u001b[0;34m(\u001b[0m\u001b[0mX\u001b[0m\u001b[0;34m,\u001b[0m \u001b[0my\u001b[0m\u001b[0;34m,\u001b[0m \u001b[0msample_weight\u001b[0m\u001b[0;34m=\u001b[0m\u001b[0msample_weight\u001b[0m\u001b[0;34m)\u001b[0m\u001b[0;34m\u001b[0m\u001b[0;34m\u001b[0m\u001b[0m\n\u001b[0m\u001b[1;32m   1167\u001b[0m \u001b[0;34m\u001b[0m\u001b[0m\n\u001b[1;32m   1168\u001b[0m     \u001b[0;32mdef\u001b[0m \u001b[0mpartial_fit\u001b[0m\u001b[0;34m(\u001b[0m\u001b[0mself\u001b[0m\u001b[0;34m,\u001b[0m \u001b[0mX\u001b[0m\u001b[0;34m,\u001b[0m \u001b[0my\u001b[0m\u001b[0;34m,\u001b[0m \u001b[0mclasses\u001b[0m\u001b[0;34m=\u001b[0m\u001b[0;32mNone\u001b[0m\u001b[0;34m,\u001b[0m \u001b[0msample_weight\u001b[0m\u001b[0;34m=\u001b[0m\u001b[0;32mNone\u001b[0m\u001b[0;34m)\u001b[0m\u001b[0;34m:\u001b[0m\u001b[0;34m\u001b[0m\u001b[0;34m\u001b[0m\u001b[0m\n",
      "\u001b[0;32m~/opt/miniconda3/lib/python3.8/site-packages/sklearn/naive_bayes.py\u001b[0m in \u001b[0;36mfit\u001b[0;34m(self, X, y, sample_weight)\u001b[0m\n\u001b[1;32m    610\u001b[0m         \u001b[0mself\u001b[0m \u001b[0;34m:\u001b[0m \u001b[0mobject\u001b[0m\u001b[0;34m\u001b[0m\u001b[0;34m\u001b[0m\u001b[0m\n\u001b[1;32m    611\u001b[0m         \"\"\"\n\u001b[0;32m--> 612\u001b[0;31m         \u001b[0mX\u001b[0m\u001b[0;34m,\u001b[0m \u001b[0my\u001b[0m \u001b[0;34m=\u001b[0m \u001b[0mself\u001b[0m\u001b[0;34m.\u001b[0m\u001b[0m_check_X_y\u001b[0m\u001b[0;34m(\u001b[0m\u001b[0mX\u001b[0m\u001b[0;34m,\u001b[0m \u001b[0my\u001b[0m\u001b[0;34m)\u001b[0m\u001b[0;34m\u001b[0m\u001b[0;34m\u001b[0m\u001b[0m\n\u001b[0m\u001b[1;32m    613\u001b[0m         \u001b[0m_\u001b[0m\u001b[0;34m,\u001b[0m \u001b[0mn_features\u001b[0m \u001b[0;34m=\u001b[0m \u001b[0mX\u001b[0m\u001b[0;34m.\u001b[0m\u001b[0mshape\u001b[0m\u001b[0;34m\u001b[0m\u001b[0;34m\u001b[0m\u001b[0m\n\u001b[1;32m    614\u001b[0m         \u001b[0mself\u001b[0m\u001b[0;34m.\u001b[0m\u001b[0mn_features_\u001b[0m \u001b[0;34m=\u001b[0m \u001b[0mn_features\u001b[0m\u001b[0;34m\u001b[0m\u001b[0;34m\u001b[0m\u001b[0m\n",
      "\u001b[0;32m~/opt/miniconda3/lib/python3.8/site-packages/sklearn/naive_bayes.py\u001b[0m in \u001b[0;36m_check_X_y\u001b[0;34m(self, X, y)\u001b[0m\n\u001b[1;32m   1222\u001b[0m         X, y = self._validate_data(X, y, dtype='int', accept_sparse=False,\n\u001b[1;32m   1223\u001b[0m                                    force_all_finite=True)\n\u001b[0;32m-> 1224\u001b[0;31m         \u001b[0mcheck_non_negative\u001b[0m\u001b[0;34m(\u001b[0m\u001b[0mX\u001b[0m\u001b[0;34m,\u001b[0m \u001b[0;34m\"CategoricalNB (input X)\"\u001b[0m\u001b[0;34m)\u001b[0m\u001b[0;34m\u001b[0m\u001b[0;34m\u001b[0m\u001b[0m\n\u001b[0m\u001b[1;32m   1225\u001b[0m         \u001b[0;32mreturn\u001b[0m \u001b[0mX\u001b[0m\u001b[0;34m,\u001b[0m \u001b[0my\u001b[0m\u001b[0;34m\u001b[0m\u001b[0;34m\u001b[0m\u001b[0m\n\u001b[1;32m   1226\u001b[0m \u001b[0;34m\u001b[0m\u001b[0m\n",
      "\u001b[0;32m~/opt/miniconda3/lib/python3.8/site-packages/sklearn/utils/validation.py\u001b[0m in \u001b[0;36mcheck_non_negative\u001b[0;34m(X, whom)\u001b[0m\n\u001b[1;32m   1066\u001b[0m \u001b[0;34m\u001b[0m\u001b[0m\n\u001b[1;32m   1067\u001b[0m     \u001b[0;32mif\u001b[0m \u001b[0mX_min\u001b[0m \u001b[0;34m<\u001b[0m \u001b[0;36m0\u001b[0m\u001b[0;34m:\u001b[0m\u001b[0;34m\u001b[0m\u001b[0;34m\u001b[0m\u001b[0m\n\u001b[0;32m-> 1068\u001b[0;31m         \u001b[0;32mraise\u001b[0m \u001b[0mValueError\u001b[0m\u001b[0;34m(\u001b[0m\u001b[0;34m\"Negative values in data passed to %s\"\u001b[0m \u001b[0;34m%\u001b[0m \u001b[0mwhom\u001b[0m\u001b[0;34m)\u001b[0m\u001b[0;34m\u001b[0m\u001b[0;34m\u001b[0m\u001b[0m\n\u001b[0m\u001b[1;32m   1069\u001b[0m \u001b[0;34m\u001b[0m\u001b[0m\n\u001b[1;32m   1070\u001b[0m \u001b[0;34m\u001b[0m\u001b[0m\n",
      "\u001b[0;31mValueError\u001b[0m: Negative values in data passed to CategoricalNB (input X)"
     ]
    }
   ],
   "source": [
    "from sklearn.naive_bayes import CategoricalNB\n",
    "model = CategoricalNB()\n",
    "model.fit(X_train, y_train)\n",
    "# make predictions for test data\n",
    "y_pred = model.predict(X_test)\n",
    "predictions = [round(value) for value in y_pred]\n",
    "# evaluate predictions\n",
    "from sklearn.metrics import accuracy_score\n",
    "# evaluate predictions\n",
    "accuracy = accuracy_score(y_test, predictions)\n",
    "print(\"Accuracy: %.2f%%\" % (accuracy * 100.0))"
   ]
  },
  {
   "cell_type": "code",
   "execution_count": 22,
   "id": "conceptual-council",
   "metadata": {},
   "outputs": [
    {
     "ename": "ImportError",
     "evalue": "cannot import name 'MinMaxScale' from 'sklearn.preprocessing' (/Users/pooyan/opt/miniconda3/lib/python3.8/site-packages/sklearn/preprocessing/__init__.py)",
     "output_type": "error",
     "traceback": [
      "\u001b[0;31m---------------------------------------------------------------------------\u001b[0m",
      "\u001b[0;31mImportError\u001b[0m                               Traceback (most recent call last)",
      "\u001b[0;32m<ipython-input-22-3a80e517c2a1>\u001b[0m in \u001b[0;36m<module>\u001b[0;34m\u001b[0m\n\u001b[0;32m----> 1\u001b[0;31m \u001b[0;32mfrom\u001b[0m \u001b[0msklearn\u001b[0m\u001b[0;34m.\u001b[0m\u001b[0mpreprocessing\u001b[0m \u001b[0;32mimport\u001b[0m \u001b[0mMinMaxScale\u001b[0m\u001b[0;34m\u001b[0m\u001b[0;34m\u001b[0m\u001b[0m\n\u001b[0m\u001b[1;32m      2\u001b[0m \u001b[0;34m\u001b[0m\u001b[0m\n",
      "\u001b[0;31mImportError\u001b[0m: cannot import name 'MinMaxScale' from 'sklearn.preprocessing' (/Users/pooyan/opt/miniconda3/lib/python3.8/site-packages/sklearn/preprocessing/__init__.py)"
     ]
    }
   ],
   "source": [
    "\n",
    "\n",
    "\n",
    "from sklearn.preprocessing import MinMaxScale\n",
    "\n",
    "scaler = MinMaxScaler()\n",
    "X_norm = scaler.fit_transform(X)\n",
    "y_norm = scaler.fit_transform(y)\n",
    "#X_ = scaler.transform(X_test)\n",
    "\n",
    "\n",
    "X_train, X_test, y_train, y_test = train_test_split(X, y, test_size=0.20)"
   ]
  },
  {
   "cell_type": "code",
   "execution_count": 23,
   "id": "amino-stewart",
   "metadata": {},
   "outputs": [],
   "source": [
    "from sklearn import preprocessing\n",
    "min_max_scaler = preprocessing.MinMaxScaler()"
   ]
  },
  {
   "cell_type": "code",
   "execution_count": 24,
   "id": "combined-frost",
   "metadata": {},
   "outputs": [],
   "source": [
    "X_norm = min_max_scaler.fit_transform(X)"
   ]
  },
  {
   "cell_type": "code",
   "execution_count": 27,
   "id": "express-norway",
   "metadata": {},
   "outputs": [],
   "source": [
    "X_train, X_test, y_train, y_test = train_test_split(X_norm, y, test_size=0.20)"
   ]
  },
  {
   "cell_type": "code",
   "execution_count": 29,
   "id": "binding-classification",
   "metadata": {},
   "outputs": [
    {
     "name": "stdout",
     "output_type": "stream",
     "text": [
      "Accuracy: 62.45%\n"
     ]
    }
   ],
   "source": [
    " from sklearn.naive_bayes import MultinomialNB\n",
    "model = MultinomialNB()\n",
    "model.fit(X_train, y_train)\n",
    "# make predictions for test data\n",
    "y_pred = model.predict(X_test)\n",
    "predictions = [round(value) for value in y_pred]\n",
    "# evaluate predictions\n",
    "from sklearn.metrics import accuracy_score\n",
    "# evaluate predictions\n",
    "accuracy = accuracy_score(y_test, predictions)\n",
    "print(\"Accuracy: %.2f%%\" % (accuracy * 100.0))"
   ]
  },
  {
   "cell_type": "code",
   "execution_count": 31,
   "id": "industrial-discovery",
   "metadata": {},
   "outputs": [
    {
     "name": "stdout",
     "output_type": "stream",
     "text": [
      "[[8814    0    0    0]\n",
      " [ 610    0    0    0]\n",
      " [   4    0    0    0]\n",
      " [4685    0    0    0]]\n"
     ]
    }
   ],
   "source": [
    "from sklearn.metrics import confusion_matrix\n",
    "\n",
    "\n",
    "print(confusion_matrix(y_test, y_pred))"
   ]
  },
  {
   "cell_type": "code",
   "execution_count": 32,
   "id": "directed-delicious",
   "metadata": {},
   "outputs": [
    {
     "data": {
      "image/png": "[encoded data removed]",
      "text/plain": [
       "<Figure size 432x288 with 2 Axes>"
      ]
     },
     "metadata": {
      "needs_background": "light"
     },
     "output_type": "display_data"
    }
   ],
   "source": [
    "import matplotlib.pyplot as plt\n",
    "from sklearn.metrics import plot_confusion_matrix\n",
    "plot_confusion_matrix(model, X_test, y_test)  \n",
    "plt.show()"
   ]
  },
  {
   "cell_type": "code",
   "execution_count": null,
   "id": "molecular-segment",
   "metadata": {},
   "outputs": [],
   "source": []
  }
 ],
 "metadata": {
  "kernelspec": {
   "display_name": "Python 3",
   "language": "python",
   "name": "python3"
  },
  "language_info": {
   "codemirror_mode": {
    "name": "ipython",
    "version": 3
   },
   "file_extension": ".py",
   "mimetype": "text/x-python",
   "name": "python",
   "nbconvert_exporter": "python",
   "pygments_lexer": "ipython3",
   "version": "3.8.5"
  }
 },
 "nbformat": 4,
 "nbformat_minor": 5
}
